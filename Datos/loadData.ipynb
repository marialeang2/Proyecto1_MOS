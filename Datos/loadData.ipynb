{
 "cells": [
  {
   "cell_type": "code",
   "execution_count": null,
   "id": "fcac14e5",
   "metadata": {},
   "outputs": [],
   "source": [
    "import pandas as pd\n",
    "import numpy as np"
   ]
  },
  {
   "cell_type": "code",
   "execution_count": null,
   "id": "c620e7e4",
   "metadata": {},
   "outputs": [],
   "source": [
    "def load_distance_time_matrix(path):\n",
    "    data= pd.read_csv(path)\n",
    "    N = len(data)\n",
    "    distance = np.zeros((N,N))\n",
    "    time = np.zeros((N,N))\n",
    "    \n",
    "    for i in range(N):\n",
    "        origen = data.iloc[i, 0]\n",
    "        destino = data.iloc[i, 1]\n",
    "        distance[origen-1, destino-1] = data.iloc[i, 2]\n",
    "        time[origen-1, destino-1] = data.iloc[i, 3]\n",
    "    \n",
    "    return distance, time\n",
    "\n",
    "def load_vehicles(path):\n",
    "    data= pd.read_csv(path)\n",
    "    N = len(data)\n",
    "    vehicles = {}\n",
    "    for i in range(N):\n",
    "        id = data.iloc[i, 0]\n",
    "        capacity = data.iloc[i, 1]\n",
    "        range = data.iloc[i, 2]\n",
    "        vehicles[id] = (capacity, range)\n",
    "    \n",
    "    return vehicles\n",
    "\n",
    "def load_demand(clientsPath):\n",
    "    data= pd.read_csv(clientsPath)\n",
    "    N = len(data)\n",
    "    demand_dic = {}\n",
    "    for i in range(N):\n",
    "        id = data.iloc[i, 1]\n",
    "        demand = data.iloc[i, 2]\n",
    "        demand_dic[id] = demand\n",
    "    \n",
    "    return demand_dic\n",
    "\n",
    "def load_demand(clientsPath):\n",
    "    data= pd.read_csv(clientsPath)\n",
    "    N = len(data)\n",
    "    demand_dic = {}\n",
    "    for i in range(N):\n",
    "        id = data.iloc[i, 1]\n",
    "        demand = data.iloc[i, 2]\n",
    "        demand_dic[id] = demand\n",
    "    \n",
    "    return demand_dic\n",
    "\n",
    "def load_capacity(depositPath):\n",
    "    data= pd.read_csv(depositPath)\n",
    "    N = len(data)\n",
    "    capacity_dic = {}\n",
    "    for i in range(N):\n",
    "        id = data.iloc[i, 1]\n",
    "        capacity = data.iloc[i, 4]\n",
    "        capacity_dic[id] = capacity\n",
    "    \n",
    "    return capacity_dic\n",
    "\n",
    "\n",
    "\n",
    "    "
   ]
  }
 ],
 "metadata": {
  "kernelspec": {
   "display_name": "pyomo_env",
   "language": "python",
   "name": "python3"
  },
  "language_info": {
   "name": "python",
   "version": "3.9.21"
  }
 },
 "nbformat": 4,
 "nbformat_minor": 5
}
