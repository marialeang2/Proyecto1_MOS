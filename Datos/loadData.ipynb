{
 "cells": [
  {
   "cell_type": "code",
   "execution_count": 1,
   "id": "fcac14e5",
   "metadata": {},
   "outputs": [],
   "source": [
    "import pandas as pd\n",
    "import numpy as np"
   ]
  },
  {
   "cell_type": "code",
   "execution_count": 31,
   "id": "c620e7e4",
   "metadata": {},
   "outputs": [],
   "source": [
    "def load_distance_time_matrix(path, N):\n",
    "    data= pd.read_csv(path)\n",
    "    distance = np.zeros((N,N))\n",
    "    time = np.zeros((N,N))\n",
    "    \n",
    "    for i in range(len(data)):\n",
    "        origen = data.iloc[i, 0]\n",
    "        destino = data.iloc[i, 1]\n",
    "        distance[origen-1, destino-1] = data.iloc[i, 2]\n",
    "        time[origen-1, destino-1] = data.iloc[i, 3]\n",
    "    return distance, time\n",
    "\n",
    "def load_vehicles(path):\n",
    "    data= pd.read_csv(path)\n",
    "    N = len(data)\n",
    "    vehicles = {}\n",
    "    for i in range(N):\n",
    "        id = data.iloc[i, 0]\n",
    "        capacity = data.iloc[i, 1]\n",
    "        ran = data.iloc[i, 2]\n",
    "        vehicles[id] = (capacity, ran)\n",
    "    \n",
    "    return vehicles\n",
    "\n",
    "def load_demand(clientsPath):\n",
    "    data= pd.read_csv(clientsPath)\n",
    "    N = len(data)\n",
    "    demand_dic = {}\n",
    "    for i in range(N):\n",
    "        id = data.iloc[i, 1]\n",
    "        demand = data.iloc[i, 2]\n",
    "        demand_dic[id] = demand\n",
    "    \n",
    "    return demand_dic\n",
    "\n",
    "\n",
    "def load_capacity(depositPath):\n",
    "    data= pd.read_csv(depositPath)\n",
    "    N = len(data)\n",
    "    capacity_dic = {}\n",
    "    for i in range(N):\n",
    "        id = data.iloc[i, 1]\n",
    "        capacity = data.iloc[i, 4]\n",
    "        capacity_dic[id] = capacity\n",
    "    \n",
    "    return capacity_dic\n",
    "\n",
    "def load_distance_time_dic(path, N):\n",
    "    data= pd.read_csv(path)\n",
    "    distance = {}\n",
    "    time = {}\n",
    "    \n",
    "    for i in range(N):\n",
    "        origen = data.iloc[i, 0]\n",
    "        destino = data.iloc[i, 1]\n",
    "        distance[origen, destino] = data.iloc[i, 2]\n",
    "        time[origen, destino] = data.iloc[i, 3]\n",
    "    \n",
    "    return distance, time\n",
    "\n",
    "\n",
    "    "
   ]
  },
  {
   "cell_type": "code",
   "execution_count": 35,
   "id": "d61493c6",
   "metadata": {},
   "outputs": [],
   "source": [
    "#distance, time = load_distance_time_matrix('Caso_Base\\casoBase.csv', 25)\n",
    "#vehicles = load_vehicles('Caso_Base/vehicles.csv')\n",
    "#demand = load_demand('Caso_Base/clients.csv')\n",
    "#capacity = load_capacity('Caso2/depots.csv')\n",
    "#distanceDic, timeDic = load_distance_time_dic('Caso_Base\\casoBase.csv', 25)\n"
   ]
  }
 ],
 "metadata": {
  "kernelspec": {
   "display_name": "pyomo_env",
   "language": "python",
   "name": "python3"
  },
  "language_info": {
   "codemirror_mode": {
    "name": "ipython",
    "version": 3
   },
   "file_extension": ".py",
   "mimetype": "text/x-python",
   "name": "python",
   "nbconvert_exporter": "python",
   "pygments_lexer": "ipython3",
   "version": "3.9.21"
  }
 },
 "nbformat": 4,
 "nbformat_minor": 5
}
