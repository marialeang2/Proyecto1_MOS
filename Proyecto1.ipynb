{
 "cells": [
  {
   "cell_type": "markdown",
   "id": "1f3fb81f",
   "metadata": {},
   "source": [
    "## Proyecto A parte 2 Modelado, Optimización y Simulacion\n",
    "- Maria Alejandra Angulo\n",
    "- Laura Sofia Murcia\n",
    "- Samuel Ramírez Gómez"
   ]
  },
  {
   "cell_type": "markdown",
   "id": "7fc24571",
   "metadata": {},
   "source": [
    "# Preprocesamiento de datos y generación de estructuras del problema"
   ]
  },
  {
   "cell_type": "code",
   "execution_count": 1,
   "id": "d8becfef",
   "metadata": {},
   "outputs": [],
   "source": [
    "## Proyecto uno parte 2 Modelado, Optimización y Simulacion\n",
    "from pyomo.environ import *\n",
    "from pyomo.opt import SolverFactory\n"
   ]
  },
  {
   "cell_type": "markdown",
   "id": "8a8b5e3c",
   "metadata": {},
   "source": [
    "#Conjuntos \n",
    "- CD centros de distribución\n",
    "- C clientes \n",
    "- A arcos recorridos\n",
    "- V vehiculos \n",
    "- N nodos del grafo CD U C"
   ]
  },
  {
   "cell_type": "markdown",
   "id": "c55bb0c9",
   "metadata": {},
   "source": [
    "# Indices"
   ]
  },
  {
   "cell_type": "code",
   "execution_count": 2,
   "id": "e3cf500e",
   "metadata": {},
   "outputs": [],
   "source": [
    "model = ConcreteModel()\n",
    "\n",
    "\n",
    "v = 3 #Cantidad de vehículos disponibles\n",
    "c = 10 # clientes del problema\n",
    "d = 2 # centros de distribución del problema\n",
    "n = c+d #Cantidad de nodos en el grafo (a variar)\n",
    "\n",
    "model.I = RangeSet(n)\n",
    "\n",
    "model.J = RangeSet(n)\n",
    "\n",
    "model.V = RangeSet(v)\n",
    "\n",
    "model.C = RangeSet(c)\n",
    "\n",
    "model.CD = RangeSet(d)"
   ]
  },
  {
   "cell_type": "markdown",
   "id": "0db49e51",
   "metadata": {},
   "source": [
    "# Parametros"
   ]
  },
  {
   "cell_type": "code",
   "execution_count": 3,
   "id": "a23a4fdf",
   "metadata": {},
   "outputs": [],
   "source": [
    "dij = {(i,j): 1 for i in range(1,n+1) for j in range(1,n+1)} #matriz de distancias entre nodos ij\n",
    "tij = {(i,j): 1 for i in range(1,n+1) for j in range(1,n+1)} #matriz de tiempos de viaje entre nodos ij\n",
    "di = {(i): 1 for i in range(1,c+1)} #demanda del cliente i\n",
    "kd = {(i): 1 for i in range(1,d+1)} #capacidad del centro de distribución i\n",
    "qv = {(i): 1 for i in range(1,v+1)} #capacidad del vehiculo i\n",
    "rv = {(i): 1 for i in range(1,v+1)} #rango útil del vehiculo i\n",
    "pf = 10000 # precio del combustible por litro \n",
    "gv = {(i): 1 for i in range(1,v+1)} #consumo de gasolina por kilometro de cada vehículo\n",
    "ft = 15000 # tarifa de flete por km\n",
    "cm = 20000 # costo de mantenimiento por km\n",
    "si = 5 # simboliza el tiempo de entrega por cliente en minutos\n",
    "cvij = {(k,i,j): 1 for k in range(1,v+1) for i in range(1,n+1) for j in range(1,n+1)} # matriz de costos de viaje de puntos nodos i a j con el vehicuo k\n",
    "\n"
   ]
  },
  {
   "cell_type": "markdown",
   "id": "a4cf90fb",
   "metadata": {},
   "source": [
    "# Variables de decisión"
   ]
  },
  {
   "cell_type": "code",
   "execution_count": 6,
   "id": "91eade3d",
   "metadata": {},
   "outputs": [
    {
     "name": "stdout",
     "output_type": "stream",
     "text": [
      "WARNING: Implicitly replacing the Component attribute x (type=<class\n",
      "'pyomo.core.base.var.IndexedVar'>) on block unknown with a new Component\n",
      "(type=<class 'pyomo.core.base.var.IndexedVar'>). This is usually indicative of\n",
      "a modelling error. To avoid this warning, use block.del_component() and\n",
      "block.add_component().\n",
      "WARNING: Implicitly replacing the Component attribute y (type=<class\n",
      "'pyomo.core.base.var.IndexedVar'>) on block unknown with a new Component\n",
      "(type=<class 'pyomo.core.base.var.IndexedVar'>). This is usually indicative of\n",
      "a modelling error. To avoid this warning, use block.del_component() and\n",
      "block.add_component().\n"
     ]
    }
   ],
   "source": [
    "model.x = Var(model.V,model.I,model.J, within=Binary) \n",
    "# modelar tiv porque samuel no entiende tiv jajajaja\n",
    "model.y = Var(model.V,model.I, within=Binary) #determina si el cliente i es atendido por el vehiculo v\n",
    "model.z = Var(model.CD,model.I, within=Binary) #determina si el cliente i es atendido por el centro de distribución cd\n",
    "model.r = Var(model.V,model.CD, within=Binary) #determina si el vehículo V sale del centro de distribución CD"
   ]
  },
  {
   "cell_type": "markdown",
   "id": "d8d1a210",
   "metadata": {},
   "source": []
  }
 ],
 "metadata": {
  "kernelspec": {
   "display_name": "pyomo_env",
   "language": "python",
   "name": "python3"
  },
  "language_info": {
   "codemirror_mode": {
    "name": "ipython",
    "version": 3
   },
   "file_extension": ".py",
   "mimetype": "text/x-python",
   "name": "python",
   "nbconvert_exporter": "python",
   "pygments_lexer": "ipython3",
   "version": "3.9.21"
  }
 },
 "nbformat": 4,
 "nbformat_minor": 5
}
